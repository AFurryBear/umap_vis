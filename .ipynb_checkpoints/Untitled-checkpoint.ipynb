{
 "cells": [
  {
   "cell_type": "code",
   "execution_count": 1,
   "id": "37392820",
   "metadata": {},
   "outputs": [],
   "source": [
    "import json\n",
    "import pandas as pd\n"
   ]
  },
  {
   "cell_type": "code",
   "execution_count": 22,
   "id": "e00aa7de",
   "metadata": {},
   "outputs": [
    {
     "data": {
      "text/html": [
       "<div>\n",
       "<style scoped>\n",
       "    .dataframe tbody tr th:only-of-type {\n",
       "        vertical-align: middle;\n",
       "    }\n",
       "\n",
       "    .dataframe tbody tr th {\n",
       "        vertical-align: top;\n",
       "    }\n",
       "\n",
       "    .dataframe thead th {\n",
       "        text-align: right;\n",
       "    }\n",
       "</style>\n",
       "<table border=\"1\" class=\"dataframe\">\n",
       "  <thead>\n",
       "    <tr style=\"text-align: right;\">\n",
       "      <th></th>\n",
       "      <th>x</th>\n",
       "      <th>y</th>\n",
       "      <th>label</th>\n",
       "      <th>index</th>\n",
       "    </tr>\n",
       "  </thead>\n",
       "  <tbody>\n",
       "    <tr>\n",
       "      <th>639</th>\n",
       "      <td>-4.487945</td>\n",
       "      <td>12.396553</td>\n",
       "      <td>1</td>\n",
       "      <td>639</td>\n",
       "    </tr>\n",
       "    <tr>\n",
       "      <th>685</th>\n",
       "      <td>-4.836135</td>\n",
       "      <td>12.066565</td>\n",
       "      <td>1</td>\n",
       "      <td>685</td>\n",
       "    </tr>\n",
       "    <tr>\n",
       "      <th>894</th>\n",
       "      <td>-5.423545</td>\n",
       "      <td>11.581609</td>\n",
       "      <td>1</td>\n",
       "      <td>894</td>\n",
       "    </tr>\n",
       "    <tr>\n",
       "      <th>946</th>\n",
       "      <td>-4.633176</td>\n",
       "      <td>12.244002</td>\n",
       "      <td>1</td>\n",
       "      <td>946</td>\n",
       "    </tr>\n",
       "    <tr>\n",
       "      <th>1088</th>\n",
       "      <td>-4.885388</td>\n",
       "      <td>12.023738</td>\n",
       "      <td>1</td>\n",
       "      <td>1088</td>\n",
       "    </tr>\n",
       "    <tr>\n",
       "      <th>...</th>\n",
       "      <td>...</td>\n",
       "      <td>...</td>\n",
       "      <td>...</td>\n",
       "      <td>...</td>\n",
       "    </tr>\n",
       "    <tr>\n",
       "      <th>20842</th>\n",
       "      <td>-5.020151</td>\n",
       "      <td>13.308609</td>\n",
       "      <td>1</td>\n",
       "      <td>20842</td>\n",
       "    </tr>\n",
       "    <tr>\n",
       "      <th>20910</th>\n",
       "      <td>-5.061004</td>\n",
       "      <td>11.873398</td>\n",
       "      <td>1</td>\n",
       "      <td>20910</td>\n",
       "    </tr>\n",
       "    <tr>\n",
       "      <th>20928</th>\n",
       "      <td>-5.112777</td>\n",
       "      <td>13.090998</td>\n",
       "      <td>1</td>\n",
       "      <td>20928</td>\n",
       "    </tr>\n",
       "    <tr>\n",
       "      <th>21865</th>\n",
       "      <td>-5.184048</td>\n",
       "      <td>11.763136</td>\n",
       "      <td>1</td>\n",
       "      <td>21865</td>\n",
       "    </tr>\n",
       "    <tr>\n",
       "      <th>21871</th>\n",
       "      <td>-5.181450</td>\n",
       "      <td>11.765487</td>\n",
       "      <td>1</td>\n",
       "      <td>21871</td>\n",
       "    </tr>\n",
       "  </tbody>\n",
       "</table>\n",
       "<p>182 rows × 4 columns</p>\n",
       "</div>"
      ],
      "text/plain": [
       "              x          y  label  index\n",
       "639   -4.487945  12.396553      1    639\n",
       "685   -4.836135  12.066565      1    685\n",
       "894   -5.423545  11.581609      1    894\n",
       "946   -4.633176  12.244002      1    946\n",
       "1088  -4.885388  12.023738      1   1088\n",
       "...         ...        ...    ...    ...\n",
       "20842 -5.020151  13.308609      1  20842\n",
       "20910 -5.061004  11.873398      1  20910\n",
       "20928 -5.112777  13.090998      1  20928\n",
       "21865 -5.184048  11.763136      1  21865\n",
       "21871 -5.181450  11.765487      1  21871\n",
       "\n",
       "[182 rows x 4 columns]"
      ]
     },
     "execution_count": 22,
     "metadata": {},
     "output_type": "execute_result"
    }
   ],
   "source": []
  },
  {
   "cell_type": "code",
   "execution_count": 32,
   "id": "d66d2ac5",
   "metadata": {},
   "outputs": [],
   "source": [
    "df=pd.read_csv('data.csv',header=None)\n",
    "df.columns=['x','y','label','index']\n",
    "labels = np.unique(df.loc[:,'label'].values)\n",
    "dict0={}\n",
    "series=[]\n",
    "for label in labels:\n",
    "    dic={'data':df.loc[df.label==1][['x','y']].values.tolist(),'type':'scatter','colorBy':'series'}\n",
    "    series.append(dic)\n",
    "data={'series':series}\n",
    "with open(\"data.json\", \"w\") as outfile:\n",
    "    json.dump(data, outfile)"
   ]
  },
  {
   "cell_type": "code",
   "execution_count": 10,
   "id": "c060884d",
   "metadata": {},
   "outputs": [],
   "source": [
    "df=pd.read_csv('sylmtx.csv',header=None)\n",
    "df=df\n",
    "dic={}\n",
    "for col in df.columns:\n",
    "    data = df.loc[:,col].values.reshape((10,121))\n",
    "    \n",
    "    dic={'data':data.tolist()}\n",
    "    with open(\"syllabus/syllabus_%05d.json\"%(col), \"w\") as outfile:\n",
    "        json.dump(dic, outfile)"
   ]
  },
  {
   "cell_type": "code",
   "execution_count": 6,
   "id": "2e628fd1",
   "metadata": {},
   "outputs": [],
   "source": [
    "df=pd.read_csv('data.csv',header=None)\n"
   ]
  },
  {
   "cell_type": "code",
   "execution_count": 15,
   "id": "ce3d992f",
   "metadata": {},
   "outputs": [
    {
     "data": {
      "image/png": "[encoded data removed]",
      "text/plain": [
       "<Figure size 216x216 with 1 Axes>"
      ]
     },
     "metadata": {},
     "output_type": "display_data"
    }
   ],
   "source": [
    "import numpy as np\n",
    "import matplotlib.pyplot as plt\n",
    "\n",
    "theta = np.linspace(0, 2 * np.pi, 200)\n",
    "x = np.cos(theta)\n",
    "y = np.sin(theta)\n",
    "fig, ax = plt.subplots(figsize=(3, 3))\n",
    "ax.plot(x, y, color=\"darkred\", linewidth=2)\n",
    "ax.xaxis.set_major_locator(plt.NullLocator()) # 删除x轴刻度，如需显示x轴刻度注释该行代码即可。\n",
    "ax.yaxis.set_major_locator(plt.NullLocator()) # 删除y轴刻度，如需显示y轴刻度注释该行代码即可。\n",
    "ax.axis(\"equal\")\n",
    "fig.savefig('cursor.png')"
   ]
  }
 ],
 "metadata": {
  "kernelspec": {
   "display_name": "Python 3 (ipykernel)",
   "language": "python",
   "name": "python3"
  },
  "language_info": {
   "codemirror_mode": {
    "name": "ipython",
    "version": 3
   },
   "file_extension": ".py",
   "mimetype": "text/x-python",
   "name": "python",
   "nbconvert_exporter": "python",
   "pygments_lexer": "ipython3",
   "version": "3.9.7"
  }
 },
 "nbformat": 4,
 "nbformat_minor": 5
}
