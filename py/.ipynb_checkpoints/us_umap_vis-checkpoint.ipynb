{
 "cells": [
  {
   "cell_type": "code",
   "execution_count": null,
   "id": "3d685d22",
   "metadata": {},
   "outputs": [],
   "source": [
    "import numpy as np\n",
    "import pandas as pd\n",
    "import sys\n",
    "import os\n",
    "\n",
    "df=pd.read_csv(sys.argv[1],header=None)\n",
    "df.columns=['x','y','label','dotindex']\n",
    "df.label = df.label.astype('str')\n",
    "labels = np.unique(df.loc[:,'label'].values)\n",
    "dict0={}\n",
    "series=[]\n",
    "for label in labels:\n",
    "    dic={'name':str(label),'data':df.loc[df.label==label].values.tolist(),'type':'scatter','colorBy':'series'}\n",
    "    series.append(dic)\n",
    "data={'series':series}\n",
    "    \n",
    "path,filename = os.path.split(sys.argv[1])\n",
    "\n",
    "os.system('mkdir -p '+os.path.join(path,'data/umap/'))\n",
    "os.system('mkdir -p '+os.path.join(path,'data/syllabus/'))\n",
    "os.system('mkdir -p '+os.path.join(path,'data/modify_log/'))\n",
    "\n",
    "df.to_csv(os.path.join(path,'data/umap','umap_combine_%04d.csv'%(int(fileIndex)+1)),header=None,index=False)\n",
    "\n",
    "with open(os.path.join(path,'data/umap','umap_combine_%04d.json'%(int(fileIndex)+1)), \"w\") as outfile:\n",
    "    json.dump(data, outfile)\n",
    "\n",
    "    \n",
    "df=pd.read_csv(sys.argv[2],header=None)\n",
    "dic={}\n",
    "for col in df.columns:\n",
    "    data = df.loc[:,col].values.reshape((10,121))\n",
    "    \n",
    "    dic={'data':data.tolist()}\n",
    "    with open(\"syllabus/syllabus_%05d.json\"%(col), \"w\") as outfile:\n",
    "        json.dump(dic, outfile)"
   ]
  }
 ],
 "metadata": {
  "kernelspec": {
   "display_name": "Python 3 (ipykernel)",
   "language": "python",
   "name": "python3"
  },
  "language_info": {
   "codemirror_mode": {
    "name": "ipython",
    "version": 3
   },
   "file_extension": ".py",
   "mimetype": "text/x-python",
   "name": "python",
   "nbconvert_exporter": "python",
   "pygments_lexer": "ipython3",
   "version": "3.9.7"
  }
 },
 "nbformat": 4,
 "nbformat_minor": 5
}
