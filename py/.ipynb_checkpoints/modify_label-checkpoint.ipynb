{
 "cells": [
  {
   "cell_type": "code",
   "execution_count": 26,
   "id": "36798dd0",
   "metadata": {},
   "outputs": [],
   "source": [
    "## MAIN AIM OF THIS CODE\n",
    "## input1 ==> fileIndex(str)\n",
    "\n",
    "\n",
    "import pandas as pd\n",
    "import numpy as np\n",
    "import json\n",
    "import sys\n",
    "\n",
    "\n",
    "fileIndex=sys.argv[1]\n",
    "\n",
    "with open('../data/modify_log/'+fileIndex+'.json', 'r') as f:\n",
    "    file=f.read()\n",
    "\n",
    "change_data = json.loads(file)\n",
    "\n",
    "origin_data=pd.read_csv('../data/umap/umap_combine_'+fileIndex+'.csv',header=None)\n",
    "origin_data.columns=['x','y','label','dotindex']\n",
    "origin_data.label = origin_data.label.astype('str')\n",
    "change_dic = change_data['dataIndex']\n",
    "for dic in change_dic:\n",
    "    if len(dic['dataIndex'])>0:\n",
    "        index = origin_data.loc[origin_data.label==dic['seriesName']].iloc[dic['dataIndex']]['dotindex']\n",
    "        origin_data.loc[index,'label']=change_data['givenLabel']\n",
    "origin_data.to_csv('../data/umap/umap_combine_%04d.csv'%(int(fileIndex)+1),header=None,index=False)\n",
    "\n",
    "labels = np.unique(origin_data.loc[:,'label'].values)\n",
    "dict0={}\n",
    "series=[]\n",
    "for label in labels:\n",
    "    dic={'name':str(label),'data':origin_data.loc[origin_data.label==label].values.tolist(),'type':'scatter','colorBy':'series'}\n",
    "    series.append(dic)\n",
    "data={'series':series}\n",
    "with open(\"../data/umap/umap_combine_%04d.json\"%(int(fileIndex)+1), \"w\") as outfile:\n",
    "    json.dump(data, outfile)"
   ]
  }
 ],
 "metadata": {
  "kernelspec": {
   "display_name": "Python 3 (ipykernel)",
   "language": "python",
   "name": "python3"
  },
  "language_info": {
   "codemirror_mode": {
    "name": "ipython",
    "version": 3
   },
   "file_extension": ".py",
   "mimetype": "text/x-python",
   "name": "python",
   "nbconvert_exporter": "python",
   "pygments_lexer": "ipython3",
   "version": "3.9.7"
  }
 },
 "nbformat": 4,
 "nbformat_minor": 5
}
